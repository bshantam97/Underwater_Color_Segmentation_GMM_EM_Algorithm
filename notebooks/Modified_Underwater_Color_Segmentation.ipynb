{
 "cells": [
  {
   "cell_type": "code",
   "execution_count": 26,
   "metadata": {},
   "outputs": [
    {
     "data": {
      "text/plain": [
       "-1"
      ]
     },
     "execution_count": 26,
     "metadata": {},
     "output_type": "execute_result"
    }
   ],
   "source": [
    "# Compute the average colour histogram for each of the RGB Colour channels\n",
    "import cv2\n",
    "import numpy as np\n",
    "import matplotlib.pyplot as plt\n",
    "import scipy\n",
    "from scipy.stats import norm\n",
    "import glob\n",
    "%matplotlib inline\n",
    "\n",
    "path_to_image_buoy1 = 'C:\\\\Users\\\\shant\\\\Underwater_Color_Segmentation_GMM_EM_Algorithm\\\\data\\\\buoy1\\\\train\\\\buoy156.png'\n",
    "path_to_image_buoy2 = 'C:\\\\Users\\\\shant\\\\Underwater_Color_Segmentation_GMM_EM_Algorithm\\\\data\\\\buoy2\\\\train\\\\buoy108.png'\n",
    "path_to_image_buoy3 = 'C:\\\\Users\\\\shant\\\\Underwater_Color_Segmentation_GMM_EM_Algorithm\\\\data\\\\buoy3\\\\train\\\\buoy28.png'\n",
    "img1 = cv2.imread(path_to_image_buoy1)\n",
    "img2 = cv2.imread(path_to_image_buoy2)\n",
    "img3 = cv2.imread(path_to_image_buoy3)\n",
    "cv2.imshow('img1',img3)\n",
    "\n",
    "cv2.waitKey(0)\n",
    "cv2.destroyAllWindows()\n",
    "cv2.waitKey(1)"
   ]
  },
  {
   "cell_type": "code",
   "execution_count": 27,
   "metadata": {},
   "outputs": [],
   "source": [
    "# initialise step of em algorithm\n",
    "def initialise_step(n, d, k):\n",
    "    \n",
    "    \"\"\"\n",
    "    Inputs:\n",
    "    n - number of datapoints\n",
    "    d - dimension of the gaussian\n",
    "    k - number of the gaussians\n",
    "    \n",
    "    Outputs:\n",
    "    weights_gaussian - weight of the gaussians, size (k)\n",
    "    mean_gaussian - mean of the gaussians, size (k x d)\n",
    "    covariance_matrix_gaussian - covariance of the gaussians, size (k x d x d)\n",
    "    probability_values - probability of the datapoint being in the k-gaussians, size (n x k)\n",
    "    \"\"\"\n",
    "        \n",
    "    # initialise weights\n",
    "    weights_gaussian = np.zeros(k)\n",
    "    for index in range(0, k):\n",
    "        weights_gaussian[index] = (1.0 / k)\n",
    "    \n",
    "    # initialise mean\n",
    "    mean_gaussian = np.zeros((k, d))\n",
    "    \n",
    "    # initialise covariance\n",
    "    covariance_matrix_gaussian = np.zeros((k, d, d))\n",
    "    \n",
    "    # randomly initialise probability\n",
    "    probability_values = np.zeros((n, k))\n",
    "    for index in range(0, n):\n",
    "        probability_values[index][np.random.randint(0, k)] = 1\n",
    "        \n",
    "    # return the arrays\n",
    "    return (weights_gaussian, mean_gaussian, covariance_matrix_gaussian, probability_values)\n",
    "\n",
    "# Fit a gaussian using the datapoints obtained using the histogram\n",
    "def fit_gaussian(image):\n",
    "    \n",
    "    color = ('b' , 'g' , 'r') # The number of color channels\n",
    "    \n",
    "    for i, col in enumerate(color):\n",
    "        # Calculate the histogram for the Red Green and Blue color channel\n",
    "        # If input is grayscale the channels = [0] but for color image the channels can be [0], [1], [2]\n",
    "        histr = cv2.calcHist([image],[i],None,[256],[0,256])\n",
    "        (mu , sigma) = norm.fit(histr) # Maximum likelihood estimate\n",
    "        bins = np.linspace(0,255,256)\n",
    "        print(\"mu:\" + str(mu) + \"sigma:\" + str(sigma))\n",
    "        plt.subplot(1,2,1)\n",
    "        plt.plot(bins, norm.pdf(bins,mu,(sigma)),color=col); \n",
    "        plt.subplot(1,2,2)\n",
    "        plt.plot(histr,color = col); \n",
    "    plt.show()\n",
    "    \n",
    "# gaussian estimation for n-points\n",
    "def gaussian_estimation_array(data_point, mean, covariance, dimension):\n",
    "    \"\"\"\n",
    "    Inputs:\n",
    "    data_point - data point of the gaussian, size (n x d)\n",
    "    mean - mean of the gaussian, size (1 x d)\n",
    "    covariance - covariance of the gaussian, size (1 x d x d)\n",
    "    dimension - dimension of the gaussian\n",
    "    \n",
    "    Outputs:\n",
    "    value of the gaussian, size (n x d)\n",
    "    \"\"\"\n",
    "\n",
    "    determinant_covariance = np.linalg.det(covariance)\n",
    "    determinant_covariance_root = np.sqrt(determinant_covariance)\n",
    "    covariance_inverse = np.linalg.inv(covariance)\n",
    "    gaussian_pi_coeff = 1.0 / np.power((2 * np.pi), (dimension / 2))\n",
    "    data_mean_diff = (data_point - mean)\n",
    "    data_mean_diff_transpose = data_mean_diff.T \n",
    "    val = (gaussian_pi_coeff) * (determinant_covariance_root) * np.exp(-0.5 * np.sum(np.multiply(data_mean_diff * covariance_inverse, data_mean_diff), axis=1))\n",
    "    return np.reshape(val, (data_point.shape[0], data_point.shape[1]))\n",
    "\n",
    "# gaussian estimation for expectation step\n",
    "def gaussian_estimation(data_point, mean, covariance, dimension):\n",
    "    \"\"\"\n",
    "    Inputs:\n",
    "    data_point - data point of the gaussian, size (1 x d)\n",
    "    mean - mean of the gaussian, size (1 x d)\n",
    "    covariance - covariance of the gaussian, size (1 x d x d)\n",
    "    dimension - dimension of the gaussian\n",
    "    \n",
    "    Outputs:\n",
    "    value of the gaussian\n",
    "    \"\"\"\n",
    "    \n",
    "    determinant_covariance = np.linalg.det(covariance)\n",
    "    determinant_covariance_root = np.sqrt(determinant_covariance)\n",
    "    covariance_inverse = np.linalg.inv(covariance)\n",
    "    gaussian_pi_coeff = 1.0 / np.power((2 * np.pi), (dimension / 2))\n",
    "    data_mean_diff = (data_point - mean)\n",
    "    data_mean_diff_transpose = data_mean_diff.T     \n",
    "    return (gaussian_pi_coeff) * (determinant_covariance_root) * np.exp(-0.5 * np.matmul(np.matmul(data_mean_diff, covariance_inverse), data_mean_diff_transpose))\n",
    "\n",
    "# Perform the expectation step\n",
    "def expectation_step(n, d, k, data, weights_gaussian, mean_gaussian, covariance_matrix_gaussian):\n",
    "    \"\"\"\n",
    "    Inputs:\n",
    "    n - the number of data-points\n",
    "    d - dimension of gaussian\n",
    "    k - number of gaussians\n",
    "    data - data to be trained on of size (n x d)\n",
    "    weights_gaussian - weight of gaussians of size (k)\n",
    "    mean_gaussian - mean of gaussians of size (k x d)\n",
    "    covariance_matrix_gaussian - covariance of gaussians of size (k x d x d)\n",
    "    probability_values - probability of the datapoint being in a gaussian of size (n x k)\n",
    "    \n",
    "    Outputs:\n",
    "    probabilities - probability array of size (n x k)\n",
    "    \"\"\"\n",
    "    \n",
    "    # create empty array of list of probabilities\n",
    "    probabilities = []\n",
    "    \n",
    "    # iterate through each item\n",
    "    for j in range(0, n):\n",
    "        \n",
    "        # calculate probability of a point being in the k-gaussians\n",
    "        probability_x = 0.0\n",
    "        for i in range(0, k):\n",
    "            probability_x = probability_x + gaussian_estimation(data[j], mean_gaussian[i], covariance_matrix_gaussian[i], d) * weights_gaussian[i]\n",
    "        probability_x_temp = []    \n",
    "        for i in range(0, k):\n",
    "            val = (gaussian_estimation(data[j], mean_gaussian[i], covariance_matrix_gaussian[i], d) * weights_gaussian[i]) / probability_x\n",
    "            probability_x_temp.append(val)\n",
    "        \n",
    "        # append probabilities of a point being in k-gaussians of size (1 x k)\n",
    "        probabilities.append(probability_x_temp)\n",
    "    return np.array(probabilities)\n",
    "\n",
    "\n",
    "# The maximization step will compute the mean, the mixture prior and the Covariance for each of the gaussian\"\n",
    "def maximization_gaussian(data_probabilities, input_data, initial_mixture_coeff, initial_mean_gaussian, initial_covariance_gaussian):\n",
    "    \"\"\"\n",
    "    K: Number of components of the gaussian mixture\n",
    "    input_data: (NxD) which is number of datapoints times the dimension of each data point\n",
    "    phi_k: List of mixture coefficients of size K\n",
    "    mean_k: List of mean for the kth component of the Gaussian Mixture of the size (Kxd)\n",
    "    sigma_square_k: Variance of the kth component of the mixture model (Kxdxd)\n",
    "    data_probabilities: Probability of the ith datapoint coming from gaussian k. The size of this matrix is (nxk)\n",
    "    \n",
    "    \"\"\"\n",
    "    # Initializations for mixture coefficients, mean and covariance of the gaussian\n",
    "    \n",
    "    phi_k = initial_mixture_coeff\n",
    "    mean_k = initial_mean_gaussian\n",
    "    covariance = initial_covariance_gaussian\n",
    "    \n",
    "    # Number of Gaussians\n",
    "    K = data_probabilities.shape[1]\n",
    "    \n",
    "    # Calculation for mixture model coefficients phi_k\"\n",
    "    phi_k = np.mean(data_probabilities, axis = 0)\n",
    "    \n",
    "    # Calculation of the mean for each k gaussian\n",
    "    mean_k = np.matmul(data_probabilities.T, input_data) / np.sum(data_probabilities, axis = 0)[:,np.newaxis]\n",
    "    \n",
    "    #Calculation of the Variance for each kth Gaussian Distribution\n",
    "    \n",
    "    # Loop over each Gaussian\n",
    "    for k in range(K):\n",
    "        \n",
    "        # Compute the difference of the ith data point with the kth gaussian mean\n",
    "        x = input_data - mean_k[k,:]\n",
    "        \n",
    "        # Compute the transpose\n",
    "        x_transpose = x.T\n",
    "        \n",
    "        # Convert the kth column of the probability matrix into a sparse diagonal matrix\n",
    "        probability_diag = np.diag(data_probabilities[:,k])\n",
    "        covariance_numerator = np.dot(np.matmul(probability_diag, x) , x_transpose)\n",
    "        \n",
    "        # The covariance numerator is again a diagonal matrix whose elements we need to sum\n",
    "        # k = 0 signifies take the main diagonal\n",
    "        covariance_numerator = np.sum(np.diag(covariance_numerator,k=0))\n",
    "        \n",
    "        # Compute the covariance\n",
    "        covariance[k,:,:] = covariance_numerator /  np.sum(data_probabilities,axis=0)[:,np.newaxis][k]\n",
    "    \n",
    "    return phi_k , mean_k , covariance\n",
    "\n",
    "# run e-m algorithm\n",
    "def run_expectation_maximization_algorithm(n, d, k, iterations, data):\n",
    "    \"\"\"\n",
    "    Inputs:\n",
    "    n - number of data-points\n",
    "    d - dimension of gaussian\n",
    "    k - number of gaussians\n",
    "    iterations - number of iterations \n",
    "    data - training data, size (n x d)\n",
    "    \n",
    "    Outputs:\n",
    "    weights_gaussian - weight of the gaussians, size (k)\n",
    "    mean_gaussian - mean of the gaussians, size (k x d)\n",
    "    covariance_matrix_gaussian - covariance of the gaussians, size (k x d x d)\n",
    "    \"\"\"\n",
    "    \n",
    "    # initialise step\n",
    "    (mixture_coeffs, mean_gaussian, covariance_matrix_gaussian, probability_values) = initialise_step(n, d, k)\n",
    "    \n",
    "    # run for fixed iterations\n",
    "    for i in range(0, iterations):\n",
    "        \n",
    "        # m-step\n",
    "        (weights_gaussian, mean_gaussian, covariance_matrix_gaussian) = maximization_gaussian(probability_values,data,mixture_coeffs,mean_gaussian,covariance_matrix_gaussian)\n",
    "        \n",
    "        # e-step\n",
    "        probability_values = expectation_step(n, d, k, data, mixture_coeffs, mean_gaussian, covariance_matrix_gaussian)\n",
    "            \n",
    "    # return answer\n",
    "    return (weights_gaussian, mean_gaussian, covariance_matrix_gaussian)"
   ]
  },
  {
   "cell_type": "code",
   "execution_count": 45,
   "metadata": {},
   "outputs": [
    {
     "data": {
      "text/plain": [
       "(2500, 1)"
      ]
     },
     "execution_count": 45,
     "metadata": {},
     "output_type": "execute_result"
    }
   ],
   "source": [
    "data = []\n",
    "for row in range(img3.shape[0]):\n",
    "    for col in range(img3.shape[1]):\n",
    "        val = []\n",
    "        val.append(img1[row, col, 2])\n",
    "        data.append(val)\n",
    "data = np.array(data)\n",
    "data.shape"
   ]
  },
  {
   "cell_type": "code",
   "execution_count": 46,
   "metadata": {},
   "outputs": [],
   "source": [
    "(weights_gaussian, mean_gaussian, covariance_matrix_gaussian) = run_expectation_maximization_algorithm(2500, 1, 2, 50, data)"
   ]
  },
  {
   "cell_type": "code",
   "execution_count": 47,
   "metadata": {},
   "outputs": [
    {
     "name": "stdout",
     "output_type": "stream",
     "text": [
      "(2, 1, 1)\n"
     ]
    }
   ],
   "source": [
    "print(covariance_matrix_gaussian.shape)"
   ]
  },
  {
   "cell_type": "code",
   "execution_count": 48,
   "metadata": {},
   "outputs": [],
   "source": [
    "y = []\n",
    "x = []\n",
    "for i in range(0, 256):\n",
    "    x.append(i)\n",
    "    output = gaussian_estimation(i, mean_gaussian[0], covariance_matrix_gaussian[0], 1) * weights_gaussian[0]\n",
    "    y.append(output)"
   ]
  },
  {
   "cell_type": "code",
   "execution_count": 49,
   "metadata": {},
   "outputs": [
    {
     "data": {
      "image/png": "[encoded data removed]",
      "text/plain": [
       "<Figure size 432x288 with 1 Axes>"
      ]
     },
     "metadata": {
      "needs_background": "light"
     },
     "output_type": "display_data"
    }
   ],
   "source": [
    "plt.plot(x, y)\n",
    "plt.show()"
   ]
  },
  {
   "cell_type": "code",
   "execution_count": 36,
   "metadata": {},
   "outputs": [
    {
     "name": "stdout",
     "output_type": "stream",
     "text": [
      "mu:9.765625sigma:19.870275\n",
      "mu:9.765625sigma:26.297571\n",
      "mu:9.765625sigma:10.711766\n"
     ]
    },
    {
     "name": "stderr",
     "output_type": "stream",
     "text": [
      "c:\\users\\shant\\anaconda3\\envs\\env\\lib\\site-packages\\ipykernel_launcher.py:48: MatplotlibDeprecationWarning: Adding an axes using the same arguments as a previous axes currently reuses the earlier instance.  In a future version, a new instance will always be created and returned.  Meanwhile, this warning can be suppressed, and the future behavior ensured, by passing a unique label to each axes instance.\n",
      "c:\\users\\shant\\anaconda3\\envs\\env\\lib\\site-packages\\ipykernel_launcher.py:50: MatplotlibDeprecationWarning: Adding an axes using the same arguments as a previous axes currently reuses the earlier instance.  In a future version, a new instance will always be created and returned.  Meanwhile, this warning can be suppressed, and the future behavior ensured, by passing a unique label to each axes instance.\n"
     ]
    },
    {
     "data": {
      "image/png": "[encoded data removed]",
      "text/plain": [
       "<Figure size 432x288 with 2 Axes>"
      ]
     },
     "metadata": {
      "needs_background": "light"
     },
     "output_type": "display_data"
    }
   ],
   "source": [
    "# Learning and segmenting the buoys\n",
    "fit_gaussian(img3)"
   ]
  },
  {
   "cell_type": "code",
   "execution_count": 20,
   "metadata": {},
   "outputs": [
    {
     "data": {
      "text/plain": [
       "(50, 1, 3)"
      ]
     },
     "execution_count": 20,
     "metadata": {},
     "output_type": "execute_result"
    }
   ],
   "source": [
    "#img2 = np.array([[[1,2,3],[4,5,6],[7,8,9]],[[10,11,12],[13,14,15],[16,17,18]]])\n",
    "img2[:,:,np.newaxis][2].shape"
   ]
  },
  {
   "cell_type": "code",
   "execution_count": 3,
   "metadata": {},
   "outputs": [
    {
     "data": {
      "text/plain": [
       "-1"
      ]
     },
     "execution_count": 3,
     "metadata": {},
     "output_type": "execute_result"
    }
   ],
   "source": [
    "# Learning and segmenting the buoys\n",
    "\n",
    "path_to_image_buoy1 = 'C:\\\\Users\\\\shant\\\\Underwater_Color_Segmentation_GMM_EM_Algorithm\\\\data\\\\buoy1\\\\train\\\\buoy156.png'\n",
    "path_to_image_buoy2 = 'C:\\\\Users\\\\shant\\\\Underwater_Color_Segmentation_GMM_EM_Algorithm\\\\data\\\\buoy2\\\\train\\\\buoy108.png'\n",
    "path_to_image_buoy3 = 'C:\\\\Users\\\\shant\\\\Underwater_Color_Segmentation_GMM_EM_Algorithm\\\\data\\\\buoy3\\\\train\\\\buoy28.png'\n",
    "img1 = cv2.imread(path_to_image_buoy1)\n",
    "img2 = cv2.imread(path_to_image_buoy2)\n",
    "img3 = cv2.imread(path_to_image_buoy3)\n",
    "cv2.imshow('img1',img1)\n",
    "\n",
    "cv2.waitKey(0)\n",
    "cv2.destroyAllWindows()\n",
    "cv2.waitKey(1)"
   ]
  },
  {
   "cell_type": "code",
   "execution_count": 16,
   "metadata": {},
   "outputs": [],
   "source": [
    "# Segment the 3 buoys into 3 different color channels \n",
    "# get the training data\n",
    "\n",
    "def import_training_data(path, channel1, channel2, channel3):\n",
    "    \n",
    "    data = []\n",
    "    training_files = glob.glob(path + \"/*\")\n",
    "    for file in training_files:\n",
    "        training_image = cv2.imread(file)\n",
    "        \n",
    "        for row in range(training_image.shape[0]):\n",
    "            for col in range(training_image.shape[1]):\n",
    "                value = []\n",
    "                \n",
    "                # If channel1 is true => 1 then append the data for the Blue color channel\n",
    "                # Same is followed for hte green and red colour channels\n",
    "                if (channel1):\n",
    "                    value.append(training_image[row,col,0])\n",
    "                if(channel2):\n",
    "                    value.append(training_image[row,col,1])\n",
    "                if(channel3):\n",
    "                    value.append(training_image[row,col,2])\n",
    "                data.append(value)\n",
    "    \n",
    "    return data\n",
    "\n",
    "train_data = import_training_data('C:\\\\Users\\\\shant\\\\Underwater_Color_Segmentation_GMM_EM_Algorithm\\\\data\\\\buoy2\\\\train\\\\', 1,1,1)\n",
    "train_data = np.array(train_data)\n",
    "train_data = train_data[:30000,:]\n",
    "\n",
    "# Run the Expectation maximization algorithm\n",
    "(mixture_coeff, mean_gaussian, covariance) = run_expectation_maximization_algorithm(train_data.shape[0],1,3,30,train_data)"
   ]
  },
  {
   "cell_type": "code",
   "execution_count": 48,
   "metadata": {},
   "outputs": [
    {
     "name": "stdout",
     "output_type": "stream",
     "text": [
      "mixture_coeff: [9.36334785e-06 9.46876741e-03 9.90521869e-01] mean_gaussian: [[241.        ]\n",
      " [240.99801775]\n",
      " [239.10162573]] covariance: [[[1.06459437e-21]]\n",
      "\n",
      " [[2.70316503e-03]]\n",
      "\n",
      " [[2.43648402e+01]]]\n"
     ]
    },
    {
     "data": {
      "image/png": "[encoded data removed]",
      "text/plain": [
       "<Figure size 432x288 with 1 Axes>"
      ]
     },
     "metadata": {
      "needs_background": "light"
     },
     "output_type": "display_data"
    }
   ],
   "source": [
    "print(f'mixture_coeff: {mixture_coeff} mean_gaussian: {mean_gaussian} covariance: {covariance}')   \n",
    "from scipy.stats import multivariate_normal as mvn\n",
    "y = []\n",
    "x = []\n",
    "for i in range(0, 256):\n",
    "    x.append(i)\n",
    "    output = mvn.pdf(i, mean_gaussian[0], covariance[0]) * mixture_coeff[0] + mvn.pdf(i, mean_gaussian[1], covariance[1]) * mixture_coeff[1] + mvn.pdf(i, mean_gaussian[2], covariance[2]) * mixture_coeff[2]\n",
    "    y.append(output)\n",
    "plt.plot(x,y)\n",
    "plt.show()"
   ]
  },
  {
   "cell_type": "code",
   "execution_count": 43,
   "metadata": {},
   "outputs": [
    {
     "data": {
      "image/png": "[encoded data removed]",
      "text/plain": [
       "<Figure size 432x288 with 1 Axes>"
      ]
     },
     "metadata": {
      "needs_background": "light"
     },
     "output_type": "display_data"
    }
   ],
   "source": [
    "y = []\n",
    "x = []\n",
    "for i in range(0, 256):\n",
    "    x.append(i)\n",
    "    output = gaussian_estimation(i, mean_gaussian[0], covariance[0], 1) * mixture_coeff[0] + gaussian_estimation(i, mean_gaussian[1], covariance[1], 1) * mixture_coeff[1] + gaussian_estimation(i, mean_gaussian[2], covariance[2], 1) * mixture_coeff[2]\n",
    "    y.append(output)\n",
    "plt.plot(x,y)\n",
    "plt.show()"
   ]
  },
  {
   "cell_type": "code",
   "execution_count": null,
   "metadata": {},
   "outputs": [],
   "source": [
    "# Segmentation of the buoys\n",
    "\n",
    "cap = cv2.VideoCapture('data/detectbuoy.avi')\n",
    "\n",
    "# Defining the codec and the videowriter object\n",
    "fourcc = cv2.VideoWriter_fourcc(*'XVID')\n",
    "out = cv2.VideoWriter('orange_buoy.avi',fourcc,20.0,(640,480))\n",
    "\n",
    "while(cap.isOpened()):\n",
    "    \n",
    "    ret, frame = cap.read()\n",
    "    \n",
    "    if ret == False:\n",
    "        break\n",
    "    \n",
    "    # Reshape the image\n",
    "    # Flatten it out\n",
    "    image = np.reshape(frame[:,:,2], (frame.shape[0]*frame.shape[1],d))\n",
    "    \n",
    "    # Maximization of the log likelihood function\n",
    "    "
   ]
  },
  {
   "cell_type": "code",
   "execution_count": 70,
   "metadata": {},
   "outputs": [],
   "source": [
    "from scipy.stats import multivariate_normal as mvn\n",
    "\n",
    "def compute_log_likelihood(input_data, mixture_coeff, mean_gaussian, covariance_gaussian):\n",
    "    \n",
    "    \"\"\"\n",
    "    Inputs\n",
    "    \n",
    "    mixture_coeff: Mixture coefficient is the probability of the kth gaussian of size (k)\n",
    "    mean_gaussian: the mean is the mean of the kth gaussian of size (kxd)\n",
    "    covariance_gaussian: Covariance of the Kth gaussian of size (kxdxd)\n",
    "    data - training data, size (n x d)\n",
    "    \n",
    "    \"\"\"\n",
    "    # We need to compute the log likelihood and do a test for convergence\n",
    "    n = input_data.shape[0]\n",
    "    K = covariance_gaussian.shape[0]\n",
    "\n",
    "    log_likelihood =  np.log(np.sum(mixture_coeff[k]*mvn.pdf(input_data,mean_gaussian[k],covariance_gaussian[k]) for k in range(K)))\n",
    "        \n",
    "    return np.sum(log_likelihood)"
   ]
  },
  {
   "cell_type": "code",
   "execution_count": 35,
   "metadata": {},
   "outputs": [
    {
     "data": {
      "text/plain": [
       "2"
      ]
     },
     "execution_count": 35,
     "metadata": {},
     "output_type": "execute_result"
    }
   ],
   "source": [
    "x = np.array([[[1,2],[4,5],[7,8]],[[1,2],[4,5],[7,8]],[[1,2],[4,5],[7,8]]])\n",
    "x.shape[2]"
   ]
  },
  {
   "cell_type": "code",
   "execution_count": 58,
   "metadata": {},
   "outputs": [
    {
     "name": "stdout",
     "output_type": "stream",
     "text": [
      "mixture_coeff: [9.36334785e-06 9.46876741e-03 9.90521869e-01] mean_gaussian: [[241.        ]\n",
      " [240.99801775]\n",
      " [239.10162573]] covariance: [[[1.06459437e-21]]\n",
      "\n",
      " [[2.70316503e-03]]\n",
      "\n",
      " [[2.43648402e+01]]]\n"
     ]
    }
   ],
   "source": [
    "print(f'mixture_coeff: {mixture_coeff} mean_gaussian: {mean_gaussian} covariance: {covariance}') "
   ]
  },
  {
   "cell_type": "code",
   "execution_count": 71,
   "metadata": {},
   "outputs": [
    {
     "name": "stderr",
     "output_type": "stream",
     "text": [
      "c:\\users\\shant\\anaconda3\\envs\\env\\lib\\site-packages\\ipykernel_launcher.py:18: DeprecationWarning: Calling np.sum(generator) is deprecated, and in the future will give a different result. Use np.sum(np.fromiter(generator)) or the python sum builtin instead.\n"
     ]
    }
   ],
   "source": [
    "train_data = import_training_data('C:\\\\Users\\\\shant\\\\Underwater_Color_Segmentation_GMM_EM_Algorithm\\\\data\\\\buoy2\\\\train\\\\', 0,1,0)\n",
    "train_data = np.array(train_data)\n",
    "train_data = train_data[:30000,:]\n",
    "train_data.shape\n",
    "x = compute_log_likelihood(train_data,mixture_coeff,mean_gaussian,covariance)"
   ]
  },
  {
   "cell_type": "code",
   "execution_count": 73,
   "metadata": {},
   "outputs": [
    {
     "data": {
      "text/plain": [
       "-3873236.021810338"
      ]
     },
     "execution_count": 73,
     "metadata": {},
     "output_type": "execute_result"
    }
   ],
   "source": [
    "x"
   ]
  },
  {
   "cell_type": "code",
   "execution_count": null,
   "metadata": {},
   "outputs": [],
   "source": []
  }
 ],
 "metadata": {
  "kernelspec": {
   "display_name": "Python 3",
   "language": "python",
   "name": "python3"
  },
  "language_info": {
   "codemirror_mode": {
    "name": "ipython",
    "version": 3
   },
   "file_extension": ".py",
   "mimetype": "text/x-python",
   "name": "python",
   "nbconvert_exporter": "python",
   "pygments_lexer": "ipython3",
   "version": "3.6.10"
  }
 },
 "nbformat": 4,
 "nbformat_minor": 4
}
