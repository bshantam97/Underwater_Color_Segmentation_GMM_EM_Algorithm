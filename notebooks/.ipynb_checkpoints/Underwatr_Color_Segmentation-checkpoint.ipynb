{
 "cells": [
  {
   "cell_type": "code",
   "execution_count": 4,
   "metadata": {},
   "outputs": [],
   "source": [
    "import cv2\n",
    "import numpy as np\n",
    "import matplotlib.pyplot as plt\n",
    "import scipy\n",
    "%matplotlib inline"
   ]
  },
  {
   "cell_type": "code",
   "execution_count": 5,
   "metadata": {},
   "outputs": [
    {
     "data": {
      "text/plain": [
       "-1"
      ]
     },
     "execution_count": 5,
     "metadata": {},
     "output_type": "execute_result"
    }
   ],
   "source": [
    "path_to_image_buoy1 = '/home/arpitdec5/Desktop/color_segmentation_using_gmm_and_em/data/buoy1/train/buoy156.png'\n",
    "path_to_image_buoy2 = '/home/arpitdec5/Desktop/color_segmentation_using_gmm_and_em/data/buoy2/train/buoy108.png'\n",
    "path_to_image_buoy3 = '/home/arpitdec5/Desktop/color_segmentation_using_gmm_and_em/data/buoy3/train/buoy28.png'\n",
    "img1 = cv2.imread(path_to_image_buoy1)\n",
    "img2 = cv2.imread(path_to_image_buoy2)\n",
    "img3 = cv2.imread(path_to_image_buoy3)\n",
    "cv2.imshow('img1',img1)\n",
    "\n",
    "cv2.waitKey(0)\n",
    "cv2.destroyAllWindows()\n",
    "cv2.waitKey(1)"
   ]
  },
  {
   "cell_type": "code",
   "execution_count": 6,
   "metadata": {},
   "outputs": [
    {
     "name": "stdout",
     "output_type": "stream",
     "text": [
      "mu:9.765625sigma:19.870275\n",
      "mu:9.765625sigma:26.297571\n",
      "mu:9.765625sigma:10.711766\n"
     ]
    },
    {
     "name": "stderr",
     "output_type": "stream",
     "text": [
      "/usr/local/lib/python2.7/dist-packages/matplotlib/cbook/deprecation.py:107: MatplotlibDeprecationWarning: Adding an axes using the same arguments as a previous axes currently reuses the earlier instance.  In a future version, a new instance will always be created and returned.  Meanwhile, this warning can be suppressed, and the future behavior ensured, by passing a unique label to each axes instance.\n",
      "  warnings.warn(message, mplDeprecation, stacklevel=1)\n"
     ]
    },
    {
     "data": {
      "image/png": "[encoded data removed]",
      "text/plain": [
       "<Figure size 432x288 with 2 Axes>"
      ]
     },
     "metadata": {
      "needs_background": "light"
     },
     "output_type": "display_data"
    }
   ],
   "source": [
    "# Compute the average colour histogram for each of the RGB Colour channels\n",
    "from scipy.stats import norm\n",
    "\n",
    "def fit_gaussian(image):\n",
    "    \n",
    "    color = ('b' , 'g' , 'r') # The number of color channels\n",
    "    \n",
    "    for i, col in enumerate(color):\n",
    "        \n",
    "        # Calculate the histogram for the Red Green and Blue color channel\n",
    "        # If input is grayscale the channels = [0] but for color image the channels can be [0], [1], [2]\n",
    "        histr = cv2.calcHist([image],[i],None,[256],[0,256])\n",
    "\n",
    "        (mu , sigma) = norm.fit(histr) # Maximum likelihood estimate\n",
    "        bins = np.linspace(0,255,256)\n",
    "        print(\"mu:\" + str(mu) + \"sigma:\" + str(sigma))\n",
    "        plt.subplot(1,2,1)\n",
    "        plt.plot(bins, norm.pdf(bins,mu,(sigma)),color=col); plt.xlim([0,256])\n",
    "        plt.subplot(1,2,2)\n",
    "        plt.plot(histr,color = col); plt.xlim([0,256])\n",
    "    plt.show()\n",
    "    \n",
    "fit_gaussian(img3)"
   ]
  },
  {
   "cell_type": "code",
   "execution_count": 77,
   "metadata": {},
   "outputs": [],
   "source": [
    "# initialise step of em algorithm\n",
    "def initialise_step(n, d, k):\n",
    "    \"\"\"\n",
    "    Inputs:\n",
    "    n - number of data-points\n",
    "    d - dimension of the gaussian\n",
    "    k - number of the gaussians\n",
    "    \n",
    "    Outputs:\n",
    "    weights_gaussian - weight of the gaussians, size (k)\n",
    "    mean_gaussian - mean of the gaussians, size (k x d)\n",
    "    covariance_matrix_gaussian - covariance of the gaussians, size (k x d x d)\n",
    "    probability_values - probability of the datapoint being in the k-gaussians, size (n x k)\n",
    "    \"\"\"\n",
    "    \n",
    "    weights_gaussian = np.zeros(k)\n",
    "    mean_gaussian = np.zeros((k, d))\n",
    "    covariance_matrix_gaussian = np.zeros((k, d, d))\n",
    "    probability_values = np.zeros((n, k))\n",
    "    \n",
    "    # randomly assign probability values\n",
    "    for index in range(0, n):\n",
    "        probability_values[index][np.random.randint(0, k)] = 1\n",
    "        \n",
    "    # return the arrays\n",
    "    return (weights_gaussian, mean_gaussian, covariance_matrix_gaussian, probability_values)\n",
    "\n",
    "\n",
    "# gaussian estimation for expectation step\n",
    "def gaussian_estimation(data_point, mean, covariance, dimension):\n",
    "    \"\"\"\n",
    "    Inputs:\n",
    "    data_point - data point of the gaussian, size (1 x d)\n",
    "    mean - mean of the gaussian, size (1 x d)\n",
    "    covariance - covariance of the gaussian, size (1 x d x d)\n",
    "    dimension - dimension of the gaussian\n",
    "    \n",
    "    Outputs:\n",
    "    value of the gaussian\n",
    "    \"\"\"\n",
    "    \n",
    "    determinant_covariance = np.linalg.det(covariance)\n",
    "    determinant_covariance_root = np.sqrt(determinant_covariance)\n",
    "    covariance_inverse = np.linalg.inv(covariance)\n",
    "    gaussian_pi_coeff = 1.0 / np.power((2 * np.pi), (dimension / 2))\n",
    "    data_mean_diff = (data_point - mean)\n",
    "    data_mean_diff_transpose = data_mean_diff.T     \n",
    "    return (gaussian_pi_coeff) * (determinant_covariance_root) * np.exp(-0.5 * np.matmul(np.matmul(data_mean_diff, covariance_inverse), data_mean_diff_transpose))\n",
    "\n",
    "\n",
    "# e-step of the algorithm\n",
    "# reference: https://towardsdatascience.com/an-intuitive-guide-to-expected-maximation-em-algorithm-e1eb93648ce9\n",
    "def expectation_step(n, d, k, data, weights_gaussian, mean_gaussian, covariance_matrix_gaussian, probability_values):\n",
    "    \"\"\"\n",
    "    Inputs:\n",
    "    n - the number of data-points\n",
    "    d - dimension of gaussian\n",
    "    k - number of gaussians\n",
    "    data - data to be trained on of size (n x d)\n",
    "    weights_gaussian - weight of gaussians of size (k)\n",
    "    mean_gaussian - mean of gaussians of size (k x d)\n",
    "    covariance_matrix_gaussian - covariance of gaussians of size (k x d x d)\n",
    "    probability_values - probability of the datapoint being in a gaussian of size (n x k)\n",
    "    \n",
    "    Outputs:\n",
    "    probabilities - probability array of size (n x k)\n",
    "    \"\"\"\n",
    "    \n",
    "    # create empty array of list of probabilities\n",
    "    probabilities = []\n",
    "    \n",
    "    # iterate through each item\n",
    "    for j in range(0, n):\n",
    "        \n",
    "        # calculate probability of a point being in the k-gaussians\n",
    "        probability_x = 0.0\n",
    "        for i in range(0, k):\n",
    "            probability_x = probability_x + gaussian_estimation(data[j], mean_gaussian[i], covariance_matrix_gaussian[i], d) * weights_gaussian[i]\n",
    "        probability_x_temp = []    \n",
    "        for i in range(0, k):\n",
    "            val = (gaussian_estimation(data[j], mean_gaussian[i], covariance_matrix_gaussian[i], d) * weights_gaussian[i]) / probability_x\n",
    "            probability_x_temp.append(val)\n",
    "        \n",
    "        # append probabilities of a point being in k-gaussians of size (1 x k)\n",
    "        probabilities.append(probability_x_temp)\n",
    "    return np.array(probabilities)\n",
    "\n",
    "\n",
    "# update weights, maximization step\n",
    "def update_weights(probabilities, k):\n",
    "    \"\"\"\n",
    "    Inputs:\n",
    "    k - number of gaussians\n",
    "    probability - probability of the datapoint being in the k-gaussians, size (n x k)\n",
    "    \n",
    "    Outputs:\n",
    "    updated_weights - weights of the k-gaussians, size (k)\n",
    "    \"\"\"\n",
    "    \n",
    "    probabilities = np.array(probabilities)\n",
    "    updated_weights = []\n",
    "    for i in range(0, k):\n",
    "        updated_weights.append(np.sum(probabilities[:, i]))\n",
    "    updated_weights = np.array(updated_weights)\n",
    "    return updated_weights / np.sum(updated_weights)\n",
    "\n",
    "\n",
    "# update mean, maximization step\n",
    "def update_mean(data, probabilities, k):\n",
    "    \"\"\"\n",
    "    Inputs:\n",
    "    data - training data, size (n x d)\n",
    "    probability - probability of the datapoints being in k-gaussians, size (n x k)\n",
    "    k - number of the gaussians\n",
    "    \n",
    "    Outputs:\n",
    "    updated_mean - mean of the k-gaussians, size (k x d)\n",
    "    \"\"\"\n",
    "    \n",
    "    probabilities = np.array(probabilities)\n",
    "    data = np.array(data)\n",
    "    updated_weights = []\n",
    "    updated_mean = np.matmul(probabilities.T, data)\n",
    "    for i in range(0, k):\n",
    "        updated_weights.append(np.sum(probabilities[:, i]))\n",
    "        updated_mean[i] = updated_mean[i] / updated_weights[i]\n",
    "    return updated_mean\n",
    "\n",
    "\n",
    "# update covariance, maximization step\n",
    "def update_covariance(data, probabilities_values, mean_gaussian, k, d, n):\n",
    "    \"\"\"\n",
    "    Inputs:\n",
    "    data - data to be trained on of size (n x d)\n",
    "    probability_values - probability of the datapoint being in k-gaussians, size (n x k)\n",
    "    mean_gaussian - mean of the k-gaussians, size (k x d)\n",
    "    k - number of gaussians\n",
    "    d - dimension of the gaussian\n",
    "    n - number of data-points\n",
    "    \n",
    "    Outputs:\n",
    "    probabilities - probability array, size (n x k)\n",
    "    \"\"\"\n",
    "    \n",
    "    probabilities_values = np.array(probabilities_values)\n",
    "    mean_gaussian = np.array(mean_gaussian)\n",
    "    data = np.array(data)\n",
    "    probabilities_sum = []\n",
    "    k_array = []\n",
    "    for i in range(0, k):\n",
    "        probabilities_sum.append(np.sum(probabilities_values[:, i]))\n",
    "        covariance_array = []\n",
    "        for index1 in range(0, d):\n",
    "            temp_array = []\n",
    "            for index2 in range(0, d):\n",
    "                check = 0\n",
    "                for index3 in range(0, n):\n",
    "                    check = check + (probabilities_values[index3, i] * (data[index3, index1] - mean_gaussian[i, index1]) * (data[index3, index2] - mean_gaussian[i, index2]))\n",
    "                check = check / probabilities_sum[i]\n",
    "                if(index1 == index2):\n",
    "                    if(np.abs(check) < 0.0001):\n",
    "                        check = 0.0001\n",
    "                temp_array.append(check)\n",
    "            covariance_array.append(temp_array)\n",
    "        k_array.append(covariance_array)\n",
    "    return k_array\n",
    "\n",
    "\n",
    "# m-step of the algorithm\n",
    "# reference: https://towardsdatascience.com/an-intuitive-guide-to-expected-maximation-em-algorithm-e1eb93648ce9\n",
    "def maximization_step(n, d, k, data, weights_gaussian, mean_gaussian, covariance_matrix_gaussian, probability_values):\n",
    "    \"\"\"\n",
    "    Inputs:\n",
    "    n - number of data-points\n",
    "    d - dimension of gaussian\n",
    "    k - number of gaussians\n",
    "    data - training data, size (n x d)\n",
    "    weights_gaussian - weight of the gaussians, size (k)\n",
    "    mean_gaussian - mean of the gaussians, size (k x d)\n",
    "    covariance_matrix_gaussian - covariance of the gaussians, size (k x d x d)\n",
    "    probability_values - probability of the datapoint being in a gaussian, size (n x k)\n",
    "    \n",
    "    Outputs:\n",
    "    u_weights - weight of the gaussians, size (k)\n",
    "    u_mean_gaussian - mean of the gaussians, size (k x d)\n",
    "    u_covariance_matrix_gaussian - covariance of the gaussians, size (k x d x d)\n",
    "    \"\"\"\n",
    "    \n",
    "    u_weights = update_weights(probability_values, k)\n",
    "    u_mean_gaussian = update_mean(data, probability_values, k)\n",
    "    u_covariance_matrix_gaussian = update_covariance(data, probability_values, mean_gaussian, k, d, n)\n",
    "    return (u_weights, u_mean_gaussian, u_covariance_matrix_gaussian)\n",
    "\n",
    "# run e-m algorithm\n",
    "def run_expectation_maximization_algorithm(n, d, k, iterations, data):\n",
    "    \"\"\"\n",
    "    Inputs:\n",
    "    n - number of data-points\n",
    "    d - dimension of gaussian\n",
    "    k - number of gaussians\n",
    "    iterations - number of iterations \n",
    "    data - training data, size (n x d)\n",
    "    \n",
    "    Outputs:\n",
    "    weights_gaussian - weight of the gaussians, size (k)\n",
    "    mean_gaussian - mean of the gaussians, size (k x d)\n",
    "    covariance_matrix_gaussian - covariance of the gaussians, size (k x d x d)\n",
    "    \"\"\"\n",
    "    \n",
    "    # initialise step\n",
    "    (weights_gaussian, mean_gaussian, covariance_matrix_gaussian, probability_values) = initialise_step(n, d, k)\n",
    "    \n",
    "    # run for fixed iterations\n",
    "    for i in range(0, iterations):\n",
    "    \n",
    "        # m-step\n",
    "        (weights_gaussian, mean_gaussian, covariance_matrix_gaussian) = maximization_step(n, d, k, data, weights_gaussian, mean_gaussian, covariance_matrix_gaussian, probability_values)\n",
    "    \n",
    "        # e-step\n",
    "        probability_values = expectation_step(n, d, k, data, weights_gaussian, mean_gaussian, covariance_matrix_gaussian, probability_values)\n",
    "    \n",
    "    # return answer\n",
    "    return (weights_gaussian, mean_gaussian, covariance_matrix_gaussian)\n",
    "\n",
    "# plot histogram\n",
    "def plot_hist(image):\n",
    "    # loop over the image channels\n",
    "    chans = cv2.split(image)\n",
    "    colors = (\"b\", \"g\", \"r\")\n",
    "    features = []\n",
    "    for (chan, color) in zip(chans, colors):\n",
    "        hist = cv2.calcHist([chan], [0], None, [256], [0, 256])\n",
    "        hist = hist / hist.sum()\n",
    "        features.extend(hist)\n",
    "        plt.plot(hist, color = color)\n",
    "        plt.xlim([0, 256])"
   ]
  },
  {
   "cell_type": "code",
   "execution_count": 78,
   "metadata": {},
   "outputs": [],
   "source": [
    "data = []\n",
    "for row in range(img2.shape[0]):\n",
    "    for col in range(img2.shape[1]):\n",
    "        val = []\n",
    "        val.append(img2[row, col, 2])\n",
    "        data.append(val)"
   ]
  },
  {
   "cell_type": "code",
   "execution_count": 79,
   "metadata": {},
   "outputs": [
    {
     "name": "stdout",
     "output_type": "stream",
     "text": [
      "(2500, 1)\n"
     ]
    }
   ],
   "source": [
    "data = np.array(data)\n",
    "print(data.shape)"
   ]
  },
  {
   "cell_type": "code",
   "execution_count": 80,
   "metadata": {},
   "outputs": [],
   "source": [
    "(weights_gaussian, mean_gaussian, covariance_matrix_gaussian) = run_expectation_maximization_algorithm(2500, 1, 2, 50, data)"
   ]
  },
  {
   "cell_type": "code",
   "execution_count": 81,
   "metadata": {},
   "outputs": [
    {
     "name": "stdout",
     "output_type": "stream",
     "text": [
      "[1.00000000e+000 4.26717276e-112]\n"
     ]
    }
   ],
   "source": [
    "print(weights_gaussian)"
   ]
  },
  {
   "cell_type": "code",
   "execution_count": 82,
   "metadata": {},
   "outputs": [
    {
     "name": "stdout",
     "output_type": "stream",
     "text": [
      "[[245.]\n",
      " [255.]]\n"
     ]
    }
   ],
   "source": [
    "print(mean_gaussian)"
   ]
  },
  {
   "cell_type": "code",
   "execution_count": 83,
   "metadata": {},
   "outputs": [
    {
     "name": "stdout",
     "output_type": "stream",
     "text": [
      "[[[238.4696]], [[0.0001]]]\n"
     ]
    }
   ],
   "source": [
    "print(covariance_matrix_gaussian)"
   ]
  },
  {
   "cell_type": "code",
   "execution_count": 84,
   "metadata": {},
   "outputs": [],
   "source": [
    "y = []\n",
    "x = []\n",
    "for i in range(0, 256):\n",
    "    x.append(i)\n",
    "    output = gaussian_estimation(i, mean_gaussian[0], covariance_matrix_gaussian[0], 1) * weights_gaussian[0]\n",
    "    y.append(output)"
   ]
  },
  {
   "cell_type": "code",
   "execution_count": 85,
   "metadata": {},
   "outputs": [
    {
     "data": {
      "image/png": "[encoded data removed]",
      "text/plain": [
       "<Figure size 432x288 with 1 Axes>"
      ]
     },
     "metadata": {
      "needs_background": "light"
     },
     "output_type": "display_data"
    }
   ],
   "source": [
    "plt.plot(x, y)\n",
    "plt.show()"
   ]
  },
  {
   "cell_type": "code",
   "execution_count": 86,
   "metadata": {},
   "outputs": [
    {
     "data": {
      "image/png": "[encoded data removed]",
      "text/plain": [
       "<Figure size 432x288 with 1 Axes>"
      ]
     },
     "metadata": {
      "needs_background": "light"
     },
     "output_type": "display_data"
    }
   ],
   "source": [
    "plot_hist(img2)"
   ]
  },
  {
   "cell_type": "code",
   "execution_count": null,
   "metadata": {},
   "outputs": [],
   "source": []
  }
 ],
 "metadata": {
  "kernelspec": {
   "display_name": "Python 3",
   "language": "python",
   "name": "python3"
  },
  "language_info": {
   "codemirror_mode": {
    "name": "ipython",
    "version": 3
   },
   "file_extension": ".py",
   "mimetype": "text/x-python",
   "name": "python",
   "nbconvert_exporter": "python",
   "pygments_lexer": "ipython3",
   "version": "3.6.10"
  }
 },
 "nbformat": 4,
 "nbformat_minor": 4
}
